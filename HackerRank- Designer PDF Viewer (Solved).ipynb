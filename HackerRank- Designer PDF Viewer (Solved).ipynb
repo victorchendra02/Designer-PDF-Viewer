{
 "cells": [
  {
   "cell_type": "code",
   "execution_count": 3,
   "metadata": {},
   "outputs": [
    {
     "name": "stdout",
     "output_type": "stream",
     "text": [
      "Area of highlighted text = 9 mm^2\n"
     ]
    }
   ],
   "source": [
    "# HackerRank - Designer PDF Viewer (Solution)\n",
    "# By: Victor Chendra\n",
    "\n",
    "\n",
    "# Make strings unique (no redundant)\n",
    "def uniqueing_strings(string: str):\n",
    "    string = string.lower()\n",
    "    unique = {}\n",
    "    new = \"\"\n",
    "\n",
    "    for char in string:\n",
    "        if char not in unique:\n",
    "            unique[char] = char\n",
    "            new += char\n",
    "\n",
    "    return new\n",
    "\n",
    "\n",
    "# Return alphabet index\n",
    "def index_of(dd: dict, char: str):\n",
    "    return dd[char]\n",
    "\n",
    "\n",
    "def designerPdfViewer(h: list, word: str):\n",
    "    wide_of_words = len(word)\n",
    "    word = uniqueing_strings(word)\n",
    "    \n",
    "    # --------------- For alphabet indexing --------------- #\n",
    "    my_dict = {}\n",
    "    alp = \"abcdefghijklmnopqrstuvwxyz\"\n",
    "\n",
    "    for i, char in enumerate(alp):\n",
    "        if char not in my_dict:\n",
    "            my_dict[char] = i\n",
    "    # --------------- For alphabet indexing --------------- #\n",
    "\n",
    "    # --------------- Comparing here --------------- #\n",
    "    yolo = []\n",
    "    for j in word:\n",
    "        max_ = int(h[index_of(my_dict, j)])\n",
    "        yolo.append(max_)\n",
    "\n",
    "    calculate = wide_of_words * max(yolo)\n",
    "    return calculate\n",
    "\n",
    "\n",
    "if __name__ == '__main__':\n",
    "    # Input example\n",
    "    h = [1, 3, 1, 3, 1, 4, 1, 3, 2, 5, 5, 5, 5, 5, 5, 5, 5, 5, 5, 5, 5, 5, 5, 5, 5, 5]\n",
    "    word = \"abc\"\n",
    "\n",
    "    area = designerPdfViewer(h, word)\n",
    "    print(f'Area of highlighted text = {area} mm^2')\n"
   ]
  },
  {
   "cell_type": "code",
   "execution_count": null,
   "metadata": {},
   "outputs": [],
   "source": []
  }
 ],
 "metadata": {
  "interpreter": {
   "hash": "f715029af4061e2dbc6432caa14ddc0d4f87d6028ac7087684b41b341339d8a7"
  },
  "kernelspec": {
   "display_name": "Python 3.10.2 64-bit",
   "language": "python",
   "name": "python3"
  },
  "language_info": {
   "codemirror_mode": {
    "name": "ipython",
    "version": 3
   },
   "file_extension": ".py",
   "mimetype": "text/x-python",
   "name": "python",
   "nbconvert_exporter": "python",
   "pygments_lexer": "ipython3",
   "version": "3.10.2"
  },
  "orig_nbformat": 4
 },
 "nbformat": 4,
 "nbformat_minor": 2
}
